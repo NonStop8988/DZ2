{
  "nbformat": 4,
  "nbformat_minor": 0,
  "metadata": {
    "colab": {
      "provenance": [],
      "toc_visible": true,
      "include_colab_link": true
    },
    "kernelspec": {
      "name": "python3",
      "display_name": "Python 3"
    },
    "language_info": {
      "name": "python"
    }
  },
  "cells": [
    {
      "cell_type": "markdown",
      "metadata": {
        "id": "view-in-github",
        "colab_type": "text"
      },
      "source": [
        "<a href=\"https://colab.research.google.com/github/NonStop8988/DZ2/blob/main/lesson10.ipynb\" target=\"_parent\"><img src=\"https://colab.research.google.com/assets/colab-badge.svg\" alt=\"Open In Colab\"/></a>"
      ]
    },
    {
      "cell_type": "markdown",
      "source": [
        "\n",
        "## Задача №63. Решение в группах\n",
        "1. Изобразите отношение households к population с\n",
        "помощью точечного графика\n",
        "2. Визуализировать longitude по отношения к\n",
        "median_house_value, используя линейный график\n",
        "3. Представить гистограмму по housing_median_age\n",
        "4. Изобразить гистограмму по median_house_value с\n",
        "оттенком housing_median_age\n"
      ],
      "metadata": {
        "id": "DK7Y6_myNdik"
      }
    }
  ]
}